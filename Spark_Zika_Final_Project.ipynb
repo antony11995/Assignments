{
 "cells": [
  {
   "cell_type": "code",
   "execution_count": 1,
   "metadata": {},
   "outputs": [
    {
     "name": "stdout",
     "output_type": "stream",
     "text": [
      "<SparkContext master=local[*] appName=pyspark-shell>\n"
     ]
    }
   ],
   "source": [
    "import pyspark\n",
    "sc = pyspark.SparkContext('local[*]')\n",
    "\n",
    "print(sc)"
   ]
  },
  {
   "cell_type": "code",
   "execution_count": 2,
   "metadata": {},
   "outputs": [
    {
     "data": {
      "text/plain": [
       "u'2.3.0'"
      ]
     },
     "execution_count": 2,
     "metadata": {},
     "output_type": "execute_result"
    }
   ],
   "source": [
    "#Check the SparkContext version\n",
    "sc.version"
   ]
  },
  {
   "cell_type": "code",
   "execution_count": 3,
   "metadata": {},
   "outputs": [
    {
     "name": "stdout",
     "output_type": "stream",
     "text": [
      "dfZikaNew.csv MapPartitionsRDD[1] at textFile at NativeMethodAccessorImpl.java:0\n"
     ]
    },
    {
     "data": {
      "text/plain": [
       "u'19/03/2016;Argentina-Buenos_Aires;province;cumulative_confirmed_local_cases;AR0001;0;cases;Argentina'"
      ]
     },
     "execution_count": 3,
     "metadata": {},
     "output_type": "execute_result"
    }
   ],
   "source": [
    "# Reading dfZika file generated from the cleaning part of the assignment\n",
    "\n",
    "dfZika = sc.textFile(\"dfZikaNew.csv\") \n",
    "\n",
    "print(dfZika)\n",
    "dfZika.first()"
   ]
  },
  {
   "cell_type": "code",
   "execution_count": 4,
   "metadata": {},
   "outputs": [
    {
     "data": {
      "text/plain": [
       "2"
      ]
     },
     "execution_count": 4,
     "metadata": {},
     "output_type": "execute_result"
    }
   ],
   "source": [
    "#Check the number of partitions\n",
    "dfZika.getNumPartitions() "
   ]
  },
  {
   "cell_type": "code",
   "execution_count": 5,
   "metadata": {},
   "outputs": [
    {
     "name": "stdout",
     "output_type": "stream",
     "text": [
      "[[u'19/03/2016', u'Argentina-Buenos_Aires', u'province', u'cumulative_confirmed_local_cases', u'AR0001', u'0', u'cases', u'Argentina'], [u'19/03/2016', u'Argentina-Buenos_Aires', u'province', u'cumulative_probable_local_cases', u'AR0002', u'0', u'cases', u'Argentina'], [u'19/03/2016', u'Argentina-Buenos_Aires', u'province', u'cumulative_confirmed_imported_cases', u'AR0003', u'2', u'cases', u'Argentina'], [u'19/03/2016', u'Argentina-Buenos_Aires', u'province', u'cumulative_probable_imported_cases', u'AR0004', u'1', u'cases', u'Argentina'], [u'19/03/2016', u'Argentina-Buenos_Aires', u'province', u'cumulative_cases_under_study', u'AR0005', u'127', u'cases', u'Argentina']]\n",
      "dfZika record data: [u'19/03/2016', u'Argentina-Buenos_Aires', u'province', u'cumulative_confirmed_local_cases', u'AR0001', u'0', u'cases', u'Argentina']\n"
     ]
    }
   ],
   "source": [
    "# Get records data fields (string split separate by ;\n",
    "dfZika_fields = dfZika.map(lambda line: line.split(\";\"))\n",
    "#Taking 5 records\n",
    "print(dfZika_fields.take(5))\n",
    "#Showing the firs Record\n",
    "print(\"dfZika record data: \" +format(dfZika_fields.first()))"
   ]
  },
  {
   "cell_type": "code",
   "execution_count": 6,
   "metadata": {},
   "outputs": [
    {
     "name": "stdout",
     "output_type": "stream",
     "text": [
      "('Statistics ->', (count: 107478, mean: 48.6345484657, stdev: 1343.198120820932, max: 161241.0, min: 0.0))\n"
     ]
    }
   ],
   "source": [
    "# Gettings Statistics from the value\n",
    "print(\"Statistics ->\", dfZika_fields.map(lambda x: int(x[5])).stats())"
   ]
  },
  {
   "cell_type": "code",
   "execution_count": 7,
   "metadata": {},
   "outputs": [
    {
     "name": "stdout",
     "output_type": "stream",
     "text": [
      "Some Statistics -> Total Cases: 107478, Total Confirmed Cases: 47469, Countries: 14, Distinct cases: 148\n"
     ]
    }
   ],
   "source": [
    "#Getting customized statistics \n",
    "\n",
    "# Count the number of cases\n",
    "total_cases = dfZika.count()\n",
    "total_confirmed_cases = dfZika_fields.map(lambda fields: fields[3]).filter(lambda line: \"confirmed\" in line).count()\n",
    "\n",
    "# Count the number of distinct countries\n",
    "num_countries=dfZika_fields.map(lambda line: line[7]).distinct().count()\n",
    "\n",
    "# Count the number of diferent cases \n",
    "num_cases = dfZika_fields.map(lambda fields: fields[3]).distinct().count()\n",
    "print (\"Some Statistics -> Total Cases: %d, Total Confirmed Cases: %d, Countries: %d, Distinct cases: %d\" % \n",
    "(total_cases,total_confirmed_cases, num_countries, num_cases))\n"
   ]
  },
  {
   "cell_type": "code",
   "execution_count": 8,
   "metadata": {},
   "outputs": [
    {
     "name": "stdout",
     "output_type": "stream",
     "text": [
      "[u'total_zika_confirmed', u'confirmed_eyepain', u'zika_confirmed_4weeks', u'cumulative_probable_imported_cases', u'GBS_reported_cumulative_2015-2016', u'microcephaly_not', u'weekly_Zika_confirmed_pending', u'confirmed_rash', u'confirmed_age_60_plus', u'cumulative_probable_local_cases', u'microcephaly_under_investigation', u'municipality_microcephaly', u'total_zika_confirmed_ages_20-49yrs_M', u'total_zika_suspected_F', u'total_zika_confirmed_Not-Aplicable', u'weekly_zika_confirmed', u'cumulative_suspected_age_5-9', u'cumulative_suspected_age_60_plus', u'yearly_cumulative_male', u'confirmed_age_over59', u'total_zika_confirmed_ages_10-14yrs_F', u'confirmed_female', u'confirmed_age_20-24', u'total_zika_confirmed_imported', u'zika_confirmed_pcr_cumulative', u'confirmed_age_25-34', u'total_zika_confirmed_pregnant_cumulative', u'total_zika_suspected_cumulative', u'gbs_reported', u'total_zika_confirmed_M', u'arbovirus_suspected_cumulative_2015', u'zika_reported_local', u'total_zika_confirmed_ages_5-9yrs_F', u'zika_confirmed_pregnant_cumulative_2015-2016', u'total_zika_confirmed_ages_15-19yrs_F', u'zika_reported', u'normal_birth_confirmed_zika', u'microcephaly_suspected_cumulative', u'zika_suspected_clinic', u'gbs_zika_confirmed', u'Zika_confirmed_F', u'arbovirus_suspected_2weeks', u'total_zika_confirmed_ages_50-64yrs_M', u'zika_lab_positive', u'confirmed_age_5-9', u'weekly_Zika_confirmed_local', u'total_zika_confirmed_ages_1-4yrs_M', u'total_zika_confirmed_ages_over65_F', u'zika_no_specimen', u'zika_confirmed_laboratory', u'zika_new_confirmed_pcr_m', u'confirmed_conjunctivitis', u'zika_suspected', u'zika_reported_travel', u'zika_confirmed_2weeks', u'Zika_confirmed_laboratory_2015', u'confirmed_acute_fever', u'total_zika_confirmed_ages_0-11mo_F', u'cumulative_cases_under_study', u'microcephaly_suspected_4weeks', u'zika_suspected_pregnant_cumulative', u'confirmed_age_15-19', u'arbovirus_suspected_4weeks', u'gbs_confirmed_cumulative', u'microcephaly_confirmed', u'total_zika_new_suspected', u'confirmed_age_10-14', u'efe_reported', u'confirmed_age_60-64', u'weekly_Zika_confirmed_imported', u'cumulative_suspected_age_10-19', u'total_zika_confirmed_autochthonous', u'weekly_hospitalized', u'cumulative_cases_discarded', u'confirmed_headache', u'cumulative_suspected_age_1-4', u'confirmed_arthralgia', u'confirmed_fever', u'gbs_reported_4weeks', u'total_zika_confirmed_pregnant', u'zika_suspected_cumulative', u'total_zika_suspected', u'total_zika_confirmed_ages_50-64yrs_F', u'zika_confirmed_clinic', u'zika_confirmed_pregnant_symptomatic_cumulative_2015-2016', u'total_zika_confirmed_ages_over65_M', u'confirmed_arthritis', u'zika_suspected_4weeks', u'confirmed_age_20to39', u'total_zika_confirmed_cumulative', u'zika_confirmed_pregnant_cumulative', u'Zika_positive_pregnant', u'microcephaly_fatal_confirmed', u'confirmed_age_35-49', u'congenital_developmental_defects_reported_cummulative_2015-2016', u'microcephaly_fatal_not', u'microcephaly_suspected', u'zika_confirmed_pregnant_asymptomatic_cumulative_2015-2016', u'total_zika_confirmed_ages_10-14yrs_M', u'congenital_developmental_defects_reported_cumulative_2015-2016', u'weekly_Zika_confirmed_asymptomatic', u'cumulative_confirmed', u'total_zika_confirmed_ages_0-11mo_M', u'confirmed_age_under_1', u'yearly_reported_travel_cases', u'arbovirus_suspected_cumulative_2016', u'confirmed_age_unk', u'cumulative_suspected_age_30-39', u'total_zika_confirmed_F', u'total_zika_confirmed_ages_20-49yrs_F', u'total_zika_new_confirmed_pcr', u'confirmed_age_40to59', u'cumulative_suspected_age_under_1', u'cumulative_suspected_total', u'cumulative_confirmed_imported_cases', u'zika_confirmed_cumulative_2015-2016', u'zika_suspected_pregnant', u'cumulative_confirmed_local_cases', u'confirmed_male', u'microcephaly_fatal_under_investigation', u'GBS_reported_cumulative_2015-2016_zika', u'gbs_reported_cumulative', u'zika_not', u'confirmed_malaise', u'microcephaly_confirmed_cumulative', u'total_zika_confirmed_ages_5-9yrs_M', u'cumulative_suspected_age_50-59', u'zika_new_confirmed_pcr_f', u'confirmed_age_under20', u'flavi_confirmed_cumulative_2016', u'confirmed_age_1-4', u'gbs_zika_confirmed_pregnant', u'total_zika_confirmed_ages_1-4yrs_F', u'zika_pending', u'total_zika_suspected_M', u'Zika_confirmed_laboratory_2016', u'GBS_reported_cumulative_2015-2016_flavi', u'total_zika_new_suspected_cumulative', u'confirmed_age_50-59', u'cumulative_suspected_pregnant', u'Zika_confirmed_M', u'yearly_cumulative_female', u'zika_confirmed_cumulative_2016', u'cumulative_suspected_age_40-49', u'cumulative_suspected_age_20-29', u'Zika_negative_pregnant', u'municipality_microcephaly_suspected', u'total_zika_confirmed_ages_15-19yrs_M']\n"
     ]
    }
   ],
   "source": [
    "#Listing the 148 cases \n",
    "print(dfZika_fields.map(lambda fields: fields[3]).distinct().collect())"
   ]
  },
  {
   "cell_type": "code",
   "execution_count": 9,
   "metadata": {},
   "outputs": [
    {
     "name": "stdout",
     "output_type": "stream",
     "text": [
      "[u'Argentina', u'Brazil', u'Colombia', u'Dominican_Republic', u'Ecuador', u'El_Salvador', u'Guatemala', u'Haiti', u'Mexico', u'Nicaragua', u'Panama', u'Puerto_Rico', u'United_States', u'United_States_Virgin_Islands']\n"
     ]
    }
   ],
   "source": [
    "#Using .map .. distinct .sortBy .collect to get the list of countries to Show the countries, \n",
    "#in this case I'm using United_States_Virgin_Islands as a country or let's say special location\n",
    "\n",
    "print(dfZika_fields.map(lambda line: line[7]).distinct().sortBy(lambda x: x).collect())"
   ]
  },
  {
   "cell_type": "code",
   "execution_count": 10,
   "metadata": {},
   "outputs": [
    {
     "data": {
      "text/plain": [
       "[(u'Argentina', 2016),\n",
       " (u'Brazil', 4167),\n",
       " (u'Colombia', 86887),\n",
       " (u'Dominican_Republic', 5716),\n",
       " (u'Ecuador', 796),\n",
       " (u'El_Salvador', 990),\n",
       " (u'Guatemala', 479),\n",
       " (u'Haiti', 52),\n",
       " (u'Mexico', 2880),\n",
       " (u'Nicaragua', 125),\n",
       " (u'Panama', 148),\n",
       " (u'Puerto_Rico', 260),\n",
       " (u'United_States', 2453),\n",
       " (u'United_States_Virgin_Islands', 509)]"
      ]
     },
     "execution_count": 10,
     "metadata": {},
     "output_type": "execute_result"
    }
   ],
   "source": [
    "#Getting the number of reports by country \n",
    "dfZika_fields.map(lambda line: line[7])\\\n",
    ".map(lambda word: (word, 1))\\\n",
    ".groupByKey()\\\n",
    ".mapValues(lambda values: sum(values))\\\n",
    ".sortBy(lambda x: x)\\\n",
    ".collect()"
   ]
  },
  {
   "cell_type": "code",
   "execution_count": 11,
   "metadata": {},
   "outputs": [
    {
     "name": "stdout",
     "output_type": "stream",
     "text": [
      "[(u'zika_suspected_pregnant_cumulative', 380), (u'zika_suspected_pregnant', 378), (u'zika_suspected_cumulative', 380), (u'zika_suspected_clinic', 16169), (u'zika_suspected_4weeks', 374), (u'zika_suspected', 28963), (u'zika_reported_travel', 709), (u'zika_reported_local', 709), (u'zika_reported', 311), (u'zika_pending', 20)]\n"
     ]
    }
   ],
   "source": [
    "# Getting the top 10  cases\n",
    "\n",
    "print(dfZika_fields.map(lambda line: line[3])\\\n",
    ".map(lambda word: (word, 1))\\\n",
    ".groupByKey()\\\n",
    ".mapValues(lambda values: sum(values))\\\n",
    ".sortBy(lambda x: x)\\\n",
    ".top(10))\n"
   ]
  },
  {
   "cell_type": "code",
   "execution_count": 12,
   "metadata": {},
   "outputs": [
    {
     "data": {
      "text/plain": [
       "[(u'Department', 95),\n",
       " (u'city', 14),\n",
       " (u'country', 856),\n",
       " (u'county', 1613),\n",
       " (u'department', 600),\n",
       " (u'district', 10),\n",
       " (u'municipality', 87554),\n",
       " (u'province', 7583),\n",
       " (u'region', 35),\n",
       " (u'state', 8341),\n",
       " (u'territory', 777)]"
      ]
     },
     "execution_count": 12,
     "metadata": {},
     "output_type": "execute_result"
    }
   ],
   "source": [
    "#Getting the number of reports by type of location\n",
    "dfZika_fields.map(lambda line: line[2])\\\n",
    ".map(lambda word: (word, 1))\\\n",
    ".groupByKey()\\\n",
    ".mapValues(lambda values: sum(values))\\\n",
    ".sortBy(lambda x: x)\\\n",
    ".collect()"
   ]
  },
  {
   "cell_type": "code",
   "execution_count": 13,
   "metadata": {},
   "outputs": [
    {
     "name": "stdout",
     "output_type": "stream",
     "text": [
      "[[u'11/04/2016', u'Panama', u'country', u'confirmed_age_under_1', u'PA0005', u'6', u'cases', u'Panama']]\n",
      "[[u'11/04/2016', u'Panama', u'country', u'confirmed_age_1-4', u'PA0006', u'10', u'cases', u'Panama']]\n",
      "[[u'11/04/2016', u'Panama', u'country', u'confirmed_age_5-9', u'PA0007', u'8', u'cases', u'Panama']]\n",
      "[[u'11/04/2016', u'Panama', u'country', u'confirmed_age_10-14', u'PA0008', u'15', u'cases', u'Panama']]\n",
      "[[u'11/04/2016', u'Panama', u'country', u'confirmed_age_15-19', u'PA0009', u'6', u'cases', u'Panama']]\n",
      "[[u'11/04/2016', u'Panama', u'country', u'confirmed_age_20-24', u'PA0010', u'18', u'cases', u'Panama']]\n",
      "[[u'11/04/2016', u'Panama', u'country', u'confirmed_age_25-34', u'PA0011', u'38', u'cases', u'Panama']]\n",
      "[[u'11/04/2016', u'Panama', u'country', u'confirmed_age_35-49', u'PA0012', u'50', u'cases', u'Panama']]\n",
      "[[u'11/04/2016', u'Panama', u'country', u'confirmed_age_50-59', u'PA0013', u'20', u'cases', u'Panama']]\n",
      "[[u'11/04/2016', u'Panama', u'country', u'confirmed_age_60-64', u'PA0014', u'7', u'cases', u'Panama']]\n",
      "[[u'11/04/2016', u'Panama', u'country', u'confirmed_age_60_plus', u'PA0015', u'4', u'cases', u'Panama']]\n"
     ]
    }
   ],
   "source": [
    "#Getting the confirmed cases by ranges of ages\n",
    "confirmed_age_under_1 = dfZika_fields.filter(lambda rec: (rec[3] == \"confirmed_age_under_1\")).collect()\n",
    "confirmed_age_1to4= dfZika_fields.filter(lambda rec: (rec[3] == \"confirmed_age_1-4\")).collect()\n",
    "confirmed_age_5to9= dfZika_fields.filter(lambda rec: (rec[3] == \"confirmed_age_5-9\")).collect()\n",
    "confirmed_age_10to14= dfZika_fields.filter(lambda rec: (rec[3] == \"confirmed_age_10-14\")).collect()\n",
    "confirmed_age_15to19= dfZika_fields.filter(lambda rec: (rec[3] == \"confirmed_age_15-19\")).collect()\n",
    "confirmed_age_20to24= dfZika_fields.filter(lambda rec: (rec[3] == \"confirmed_age_20-24\")).collect()\n",
    "confirmed_age_25to34= dfZika_fields.filter(lambda rec: (rec[3] == \"confirmed_age_25-34\" )).collect()\n",
    "confirmed_age_35to49= dfZika_fields.filter(lambda rec: (rec[3] == \"confirmed_age_35-49\")).collect()\n",
    "confirmed_age_50to59= dfZika_fields.filter(lambda rec: (rec[3] == \"confirmed_age_50-59\")).collect()\n",
    "confirmed_age_60to64= dfZika_fields.filter(lambda rec: (rec[3] == \"confirmed_age_60-64\")).collect()\n",
    "confirmed_age_60_plus= dfZika_fields.filter(lambda rec: (rec[3] == \"confirmed_age_60_plus\")).collect()\n",
    "\n",
    "print (confirmed_age_under_1)\n",
    "print (confirmed_age_1to4)\n",
    "print (confirmed_age_5to9)\n",
    "print (confirmed_age_10to14)\n",
    "print (confirmed_age_15to19)\n",
    "print (confirmed_age_20to24)\n",
    "print (confirmed_age_25to34)\n",
    "print (confirmed_age_35to49)\n",
    "print (confirmed_age_50to59)\n",
    "print ( confirmed_age_60to64)\n",
    "print (confirmed_age_60_plus)\n",
    "\n"
   ]
  },
  {
   "cell_type": "code",
   "execution_count": 14,
   "metadata": {},
   "outputs": [
    {
     "name": "stdout",
     "output_type": "stream",
     "text": [
      "30/05/2016\n"
     ]
    }
   ],
   "source": [
    "#Check the recently report date\n",
    "\n",
    "print(dfZika_fields.map(lambda fields: fields[0]).max())"
   ]
  },
  {
   "cell_type": "code",
   "execution_count": 15,
   "metadata": {},
   "outputs": [
    {
     "name": "stdout",
     "output_type": "stream",
     "text": [
      "01/03/2016\n"
     ]
    }
   ],
   "source": [
    "#Checking the oldest report date\n",
    "print(dfZika_fields.map(lambda fields: fields[0]).min())"
   ]
  },
  {
   "cell_type": "code",
   "execution_count": 16,
   "metadata": {},
   "outputs": [
    {
     "name": "stdout",
     "output_type": "stream",
     "text": [
      "[u'17/05/2016', u'04/05/2016', u'14/06/2016', u'19/01/2016', u'09/02/2016', u'23/12/2015', u'16/02/2016', u'07/06/2016', u'02/01/2016', u'27/02/2016', u'19/05/2016', u'28/11/2015', u'25/06/2016', u'11/05/2016', u'09/06/2016', u'24/05/2016', u'08/03/2016', u'01/06/2016', u'22/03/2016', u'23/04/2016', u'09/04/2016', u'28/03/2016', u'27/04/2016', u'16/06/2016', u'27/12/2015', u'03/02/2016', u'11/03/2016', u'05/12/2015', u'22/05/2016', u'23/06/2016', u'21/06/2016', u'12/12/2015', u'09/12/2015', u'26/05/2016', u'16/12/2015', u'05/04/2016', u'23/02/2016', u'12/02/2016', u'29/12/2015', u'18/04/2016', u'29/02/2016', u'28/05/2016', u'15/03/2016', u'29/06/2016', u'25/04/2016', u'03/06/2016', u'17/03/2016', u'18/06/2016', u'29/04/2016', u'16/04/2016', u'30/04/2016', u'02/07/2016', u'18/02/2016', u'19/03/2016', u'12/04/2016', u'26/01/2016', u'10/02/2016', u'26/03/2016', u'16/01/2016', u'08/06/2016', u'20/02/2016', u'09/01/2016', u'13/06/2016', u'25/03/2016', u'05/05/2016', u'10/05/2016', u'14/03/2016', u'11/02/2016', u'19/12/2015', u'01/03/2016', u'26/12/2015', u'02/02/2016', u'09/03/2016', u'15/06/2016', u'12/05/2016', u'14/05/2016', u'11/04/2016', u'18/05/2016', u'06/02/2016', u'27/01/2016', u'22/06/2016', u'09/05/2016', u'23/05/2016', u'04/04/2016', u'23/01/2016', u'11/06/2016', u'19/04/2016', u'05/03/2016', u'10/03/2016', u'16/03/2016', u'30/01/2016', u'07/05/2016', u'07/03/2016', u'26/06/2016', u'03/03/2016', u'01/07/2016', u'25/05/2016', u'22/02/2016', u'21/05/2016', u'28/06/2016', u'16/05/2016', u'30/05/2016', u'03/05/2016', u'04/06/2016', u'06/06/2016', u'27/05/2016', u'12/03/2016', u'02/04/2016', u'04/02/2016', u'20/04/2016', u'15/02/2016', u'24/02/2016', u'02/06/2016', u'13/02/2016', u'06/04/2016', u'29/03/2016', u'23/03/2016', u'14/01/2016', u'30/03/2016', u'13/04/2016']\n"
     ]
    }
   ],
   "source": [
    "#Checking the busy reporting dates\n",
    "print(dfZika_fields.map(lambda fields: fields[0]).distinct().collect())"
   ]
  },
  {
   "cell_type": "code",
   "execution_count": 17,
   "metadata": {},
   "outputs": [],
   "source": [
    "# import matplotlib.pyplot as plt\n",
    "# Zika_cases= dfZika_fields.map(lambda x: int(x[5])).collect()\n",
    "# Zika_stats = dfZika_fields.map(lambda x: int(x[5])).stats()\n",
    "\n",
    "\n",
    "# plt.hist(Zika_cases, bins=int((Zika_stats.max()-Zika_stats.min())+1), color='lightblue', density=True)\n",
    "# fig = plt.gcf()\n",
    "# fig.set_size_inches(26, 10)"
   ]
  }
 ],
 "metadata": {
  "kernelspec": {
   "display_name": "Python 2",
   "language": "python",
   "name": "python2"
  },
  "language_info": {
   "codemirror_mode": {
    "name": "ipython",
    "version": 2
   },
   "file_extension": ".py",
   "mimetype": "text/x-python",
   "name": "python",
   "nbconvert_exporter": "python",
   "pygments_lexer": "ipython2",
   "version": "2.7.5"
  }
 },
 "nbformat": 4,
 "nbformat_minor": 2
}
