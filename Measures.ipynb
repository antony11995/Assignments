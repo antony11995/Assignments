{
 "cells": [
  {
   "cell_type": "code",
   "execution_count": 1,
   "metadata": {},
   "outputs": [],
   "source": [
    "# I'm importing the libraries that I need to use\n",
    "import json\n",
    "import pandas as pd\n",
    "import numpy as np"
   ]
  },
  {
   "cell_type": "code",
   "execution_count": 2,
   "metadata": {},
   "outputs": [],
   "source": [
    "#Reading the csv files and set up content inside variables\n",
    "file1=pd.read_csv(\"H-DHT22-measures.csv\")\n",
    "file2=pd.read_csv(\"H-HTU21-measures.csv\")\n",
    "file3=pd.read_csv(\"P-BMP280-measures.csv\")\n",
    "file4=pd.read_csv(\"T-BMP280-measures.csv\")\n",
    "file5=pd.read_csv(\"T-DHT11-measures.csv\")\n",
    "file6=pd.read_csv(\"T-DHT22-measures.csv\")\n",
    "\n",
    "#Reading the json files and set up content inside variables\n",
    "data_file7 = []\n",
    "with open('H-DHT11-measures.json') as f7:\n",
    "    for line7 in f7:\n",
    "        data_file7.append(json.loads(line7))\n",
    "file7=pd.DataFrame(data_file7)     \n",
    "\n",
    "data_file8 = []\n",
    "with open('P-DM280-measures.json') as f8:\n",
    "    for line8 in f8:\n",
    "        data_file8.append(json.loads(line8))\n",
    "file8=pd.DataFrame(data_file8)  \n",
    "\n",
    "data_file9 = []\n",
    "with open('T-DM280-measures.json') as f9:\n",
    "    for line9 in f9:\n",
    "        data_file9.append(json.loads(line9))\n",
    "file9=pd.DataFrame(data_file9) \n",
    "\n",
    "data_file10 = []\n",
    "with open('T-HTU21-measures.json') as f10:\n",
    "    for line10 in f10:\n",
    "        data_file10.append(json.loads(line10))\n",
    "file10=pd.DataFrame(data_file10) \n"
   ]
  },
  {
   "cell_type": "code",
   "execution_count": 13,
   "metadata": {},
   "outputs": [
    {
     "data": {
      "text/plain": [
       "(    sensor  value                  time\n",
       " 0  H-DHT22   15.7  2017-12-19T14:07:18Z\n",
       " 1  H-DHT22   15.7  2017-12-19T14:07:25Z\n",
       " 2  H-DHT22   15.7  2017-12-19T14:07:32Z\n",
       " 3  H-DHT22   15.7  2017-12-19T14:07:38Z\n",
       " 4  H-DHT22   15.7  2017-12-19T14:07:45Z,\n",
       "     sensor  value                  time\n",
       " 0  H-HTU21   28.3  2017-12-20T12:17:05Z\n",
       " 1  H-HTU21   28.2  2017-12-20T12:17:07Z\n",
       " 2  H-HTU21   28.1  2017-12-20T12:17:09Z\n",
       " 3  H-HTU21   28.2  2017-12-20T12:17:11Z\n",
       " 4  H-HTU21   28.2  2017-12-20T12:17:13Z,\n",
       "      sensor    value                  time\n",
       " 0  P-BMP280  1035.56  2017-12-22T10:52:59Z\n",
       " 1  P-BMP280  1035.55  2017-12-22T10:53:02Z\n",
       " 2  P-BMP280  1035.54  2017-12-22T10:53:05Z\n",
       " 3  P-BMP280  1035.54  2017-12-22T10:53:08Z\n",
       " 4  P-BMP280  1035.53  2017-12-22T10:53:11Z,\n",
       "      sensor  value                  time\n",
       " 0  T-BMP280  26.43  2017-12-22T10:52:59Z\n",
       " 1  T-BMP280  26.43  2017-12-22T10:53:02Z\n",
       " 2  T-BMP280  26.44  2017-12-22T10:53:05Z\n",
       " 3  T-BMP280  26.44  2017-12-22T10:53:08Z\n",
       " 4  T-BMP280  26.42  2017-12-22T10:53:11Z,\n",
       "     sensor  value                  time\n",
       " 0  T-DHT11     27  2017-12-22T11:22:11Z\n",
       " 1  T-DHT11     28  2017-12-22T11:22:16Z\n",
       " 2  T-DHT11     28  2017-12-22T11:22:20Z\n",
       " 3  T-DHT11     28  2017-12-22T11:22:24Z\n",
       " 4  T-DHT11     28  2017-12-22T11:22:28Z,\n",
       "     sensor  value                  time\n",
       " 0  T-DHT22   25.5  2017-12-19T14:07:18Z\n",
       " 1  T-DHT22   25.5  2017-12-19T14:07:25Z\n",
       " 2  T-DHT22   25.6  2017-12-19T14:07:32Z\n",
       " 3  T-DHT22   25.6  2017-12-19T14:07:38Z\n",
       " 4  T-DHT22   25.6  2017-12-19T14:07:45Z,\n",
       "     sensor                  time  value\n",
       " 0  H-DHT11  2017-12-22T11:22:11Z     31\n",
       " 1  H-DHT11  2017-12-22T11:22:16Z     31\n",
       " 2  H-DHT11  2017-12-22T11:22:20Z     31\n",
       " 3  H-DHT11  2017-12-22T11:22:24Z     31\n",
       " 4  H-DHT11  2017-12-22T11:22:28Z     31,\n",
       "     sensor                  time    value\n",
       " 0  P-DM280  2017-12-22T10:51:32Z  1040.00\n",
       " 1  P-DM280  2017-12-22T10:51:35Z  1040.00\n",
       " 2  P-DM280  2017-12-22T10:51:38Z  1039.97\n",
       " 3  P-DM280  2017-12-22T10:51:41Z  1039.95,\n",
       "     sensor                  time  value\n",
       " 0  T-DM280  2017-12-22T10:51:31Z  26.43\n",
       " 1  T-DM280  2017-12-22T10:51:35Z  26.43\n",
       " 2  T-DM280  2017-12-22T10:51:38Z  26.45\n",
       " 3  T-DM280  2017-12-22T10:51:41Z  26.45,\n",
       "     sensor                  time  value\n",
       " 0  T-HTU21  2017-12-20T12:17:05Z  25.09\n",
       " 1  T-HTU21  2017-12-20T12:17:07Z  25.09\n",
       " 2  T-HTU21  2017-12-20T12:17:09Z  25.09\n",
       " 3  T-HTU21  2017-12-20T12:17:11Z  25.09\n",
       " 4  T-HTU21  2017-12-20T12:17:13Z  25.08)"
      ]
     },
     "execution_count": 13,
     "metadata": {},
     "output_type": "execute_result"
    }
   ],
   "source": [
    "#Using head() to check columns name and a preview of the first rows\n",
    "file1.head(),file2.head(), file3.head(), file4.head(), file5.head(), file6.head(), file7.head(), file8.head(), file9.head(), file10.head()"
   ]
  },
  {
   "cell_type": "code",
   "execution_count": 19,
   "metadata": {},
   "outputs": [
    {
     "name": "stdout",
     "output_type": "stream",
     "text": [
      "<class 'pandas.core.frame.DataFrame'>\n",
      "RangeIndex: 1440160 entries, 0 to 1440159\n",
      "Data columns (total 3 columns):\n",
      "sensor    1440160 non-null object\n",
      "value     1440160 non-null float64\n",
      "time      1440160 non-null object\n",
      "dtypes: float64(1), object(2)\n",
      "memory usage: 33.0+ MB\n",
      "<class 'pandas.core.frame.DataFrame'>\n",
      "RangeIndex: 1428377 entries, 0 to 1428376\n",
      "Data columns (total 3 columns):\n",
      "sensor    1428377 non-null object\n",
      "value     1428377 non-null float64\n",
      "time      1428377 non-null object\n",
      "dtypes: float64(1), object(2)\n",
      "memory usage: 32.7+ MB\n",
      "<class 'pandas.core.frame.DataFrame'>\n",
      "RangeIndex: 1422788 entries, 0 to 1422787\n",
      "Data columns (total 3 columns):\n",
      "sensor    1422788 non-null object\n",
      "value     1422788 non-null float64\n",
      "time      1422788 non-null object\n",
      "dtypes: float64(1), object(2)\n",
      "memory usage: 32.6+ MB\n",
      "<class 'pandas.core.frame.DataFrame'>\n",
      "RangeIndex: 1422795 entries, 0 to 1422794\n",
      "Data columns (total 3 columns):\n",
      "sensor    1422795 non-null object\n",
      "value     1422795 non-null float64\n",
      "time      1422795 non-null object\n",
      "dtypes: float64(1), object(2)\n",
      "memory usage: 32.6+ MB\n",
      "<class 'pandas.core.frame.DataFrame'>\n",
      "RangeIndex: 1420308 entries, 0 to 1420307\n",
      "Data columns (total 3 columns):\n",
      "sensor    1420308 non-null object\n",
      "value     1420308 non-null int64\n",
      "time      1420308 non-null object\n",
      "dtypes: int64(1), object(2)\n",
      "memory usage: 32.5+ MB\n",
      "<class 'pandas.core.frame.DataFrame'>\n",
      "RangeIndex: 1440150 entries, 0 to 1440149\n",
      "Data columns (total 3 columns):\n",
      "sensor    1440150 non-null object\n",
      "value     1440150 non-null float64\n",
      "time      1440150 non-null object\n",
      "dtypes: float64(1), object(2)\n",
      "memory usage: 33.0+ MB\n",
      "<class 'pandas.core.frame.DataFrame'>\n",
      "RangeIndex: 1420302 entries, 0 to 1420301\n",
      "Data columns (total 3 columns):\n",
      "sensor    1420302 non-null object\n",
      "time      1420302 non-null object\n",
      "value     1420302 non-null int64\n",
      "dtypes: int64(1), object(2)\n",
      "memory usage: 32.5+ MB\n",
      "<class 'pandas.core.frame.DataFrame'>\n",
      "RangeIndex: 4 entries, 0 to 3\n",
      "Data columns (total 3 columns):\n",
      "sensor    4 non-null object\n",
      "time      4 non-null object\n",
      "value     4 non-null float64\n",
      "dtypes: float64(1), object(2)\n",
      "memory usage: 176.0+ bytes\n",
      "<class 'pandas.core.frame.DataFrame'>\n",
      "RangeIndex: 4 entries, 0 to 3\n",
      "Data columns (total 3 columns):\n",
      "sensor    4 non-null object\n",
      "time      4 non-null object\n",
      "value     4 non-null float64\n",
      "dtypes: float64(1), object(2)\n",
      "memory usage: 176.0+ bytes\n",
      "<class 'pandas.core.frame.DataFrame'>\n",
      "RangeIndex: 1428383 entries, 0 to 1428382\n",
      "Data columns (total 3 columns):\n",
      "sensor    1428383 non-null object\n",
      "time      1428383 non-null object\n",
      "value     1428383 non-null float64\n",
      "dtypes: float64(1), object(2)\n",
      "memory usage: 32.7+ MB\n"
     ]
    },
    {
     "data": {
      "text/plain": [
       "(None, None, None, None, None, None, None, None, None, None)"
      ]
     },
     "execution_count": 19,
     "metadata": {},
     "output_type": "execute_result"
    }
   ],
   "source": [
    "#So far my first finding is that the order of  columns for file1 to file6 is sensor, value, time, \n",
    "#but from file7 to file10 is sensor, time, value.\n",
    "# I have decided to work with the files separately to clean the data. So, It is not an issue the order of columns\n",
    "#but if I had decided to combine the files I had to re-order the columns to make that the data match.\n",
    "\n",
    "#Now, I want to know total columns, row, data type and size on disk:\n",
    "file1.info(), file2.info(), file3.info(), file4.info(), file5.info(), file6.info(), file7.info(), file8.info(),\\\n",
    "file9.info(), file10.info()"
   ]
  },
  {
   "cell_type": "code",
   "execution_count": 20,
   "metadata": {},
   "outputs": [
    {
     "data": {
      "text/plain": [
       "(sensor    0\n",
       " value     0\n",
       " time      0\n",
       " dtype: int64, sensor    0\n",
       " value     0\n",
       " time      0\n",
       " dtype: int64, sensor    0\n",
       " value     0\n",
       " time      0\n",
       " dtype: int64, sensor    0\n",
       " value     0\n",
       " time      0\n",
       " dtype: int64, sensor    0\n",
       " value     0\n",
       " time      0\n",
       " dtype: int64, sensor    0\n",
       " value     0\n",
       " time      0\n",
       " dtype: int64, sensor    0\n",
       " time      0\n",
       " value     0\n",
       " dtype: int64, sensor    0\n",
       " time      0\n",
       " value     0\n",
       " dtype: int64, sensor    0\n",
       " time      0\n",
       " value     0\n",
       " dtype: int64, sensor    0\n",
       " time      0\n",
       " value     0\n",
       " dtype: int64)"
      ]
     },
     "execution_count": 20,
     "metadata": {},
     "output_type": "execute_result"
    }
   ],
   "source": [
    "#Another finding: in some files the data type for value is Int64 while other is float64\n",
    "#The remaining columns (sensor, time) are object data types.\n",
    "#Also I can see the different size on disk for each file, some has similar size but not all of them.\n",
    "\n",
    "#Even when the info() shows that columns are not null, I want to make sure \n",
    "pd.isnull(file1).sum(axis = 0), pd.isnull(file2).sum(axis = 0), pd.isnull(file3).sum(axis = 0), pd.isnull(file4).sum(axis = 0),\\\n",
    "pd.isnull(file5).sum(axis = 0), pd.isnull(file6).sum(axis = 0), pd.isnull(file7).sum(axis = 0), pd.isnull(file8).sum(axis = 0),\\\n",
    "pd.isnull(file9).sum(axis = 0), pd.isnull(file10).sum(axis = 0)"
   ]
  },
  {
   "cell_type": "code",
   "execution_count": 62,
   "metadata": {},
   "outputs": [
    {
     "name": "stdout",
     "output_type": "stream",
     "text": [
      "<class 'pandas.core.frame.DataFrame'>\n",
      "RangeIndex: 1420308 entries, 0 to 1420307\n",
      "Data columns (total 3 columns):\n",
      "sensor    1420308 non-null object\n",
      "value     1420308 non-null float64\n",
      "time      1420308 non-null object\n",
      "dtypes: float64(1), object(2)\n",
      "memory usage: 32.5+ MB\n",
      "<class 'pandas.core.frame.DataFrame'>\n",
      "RangeIndex: 1420302 entries, 0 to 1420301\n",
      "Data columns (total 3 columns):\n",
      "sensor    1420302 non-null object\n",
      "time      1420302 non-null object\n",
      "value     1420302 non-null float64\n",
      "dtypes: float64(1), object(2)\n",
      "memory usage: 32.5+ MB\n"
     ]
    }
   ],
   "source": [
    "#Now, I want to convert int64 to float64 data type for the value column on file5 and file7\n",
    "#Also check that the column type are changed\n",
    "\n",
    "file5.value=file5.value.astype('float64')\n",
    "file7.value=file7.value.astype('float64')\n",
    "file5.info()\n",
    "file7.info()"
   ]
  },
  {
   "cell_type": "code",
   "execution_count": 68,
   "metadata": {},
   "outputs": [
    {
     "name": "stdout",
     "output_type": "stream",
     "text": [
      "<class 'pandas.core.frame.DataFrame'>\n",
      "RangeIndex: 1420302 entries, 0 to 1420301\n",
      "Data columns (total 3 columns):\n",
      "sensor    1420302 non-null object\n",
      "value     1420302 non-null float64\n",
      "time      1420302 non-null object\n",
      "dtypes: float64(1), object(2)\n",
      "memory usage: 32.5+ MB\n",
      "<class 'pandas.core.frame.DataFrame'>\n",
      "RangeIndex: 4 entries, 0 to 3\n",
      "Data columns (total 3 columns):\n",
      "sensor    4 non-null object\n",
      "value     4 non-null float64\n",
      "time      4 non-null object\n",
      "dtypes: float64(1), object(2)\n",
      "memory usage: 176.0+ bytes\n",
      "<class 'pandas.core.frame.DataFrame'>\n",
      "RangeIndex: 4 entries, 0 to 3\n",
      "Data columns (total 3 columns):\n",
      "sensor    4 non-null object\n",
      "value     4 non-null float64\n",
      "time      4 non-null object\n",
      "dtypes: float64(1), object(2)\n",
      "memory usage: 176.0+ bytes\n",
      "<class 'pandas.core.frame.DataFrame'>\n",
      "RangeIndex: 1428383 entries, 0 to 1428382\n",
      "Data columns (total 3 columns):\n",
      "sensor    1428383 non-null object\n",
      "value     1428383 non-null float64\n",
      "time      1428383 non-null object\n",
      "dtypes: float64(1), object(2)\n",
      "memory usage: 32.7+ MB\n"
     ]
    }
   ],
   "source": [
    "# I'm changing the orders of columns from file7 to file10 and checking that changes are being reflected.\n",
    "file7 = file7[['sensor', 'value', 'time']]\n",
    "file8 = file8[['sensor', 'value', 'time']]\n",
    "file9 = file9[['sensor', 'value', 'time']]\n",
    "file10 = file10[['sensor', 'value', 'time']]\n",
    "file7.info()\n",
    "file8.info()\n",
    "file9.info()\n",
    "file10.info()"
   ]
  },
  {
   "cell_type": "code",
   "execution_count": 69,
   "metadata": {},
   "outputs": [
    {
     "name": "stdout",
     "output_type": "stream",
     "text": [
      "<class 'pandas.core.frame.DataFrame'>\n",
      "Int64Index: 11423271 entries, 0 to 1428382\n",
      "Data columns (total 3 columns):\n",
      "sensor    object\n",
      "time      object\n",
      "value     float64\n",
      "dtypes: float64(1), object(2)\n",
      "memory usage: 348.6+ MB\n"
     ]
    },
    {
     "data": {
      "text/plain": [
       "sensor    11423271\n",
       "time      11423271\n",
       "value     11423271\n",
       "dtype: int64"
      ]
     },
     "execution_count": 69,
     "metadata": {},
     "output_type": "execute_result"
    }
   ],
   "source": [
    "# I want to concatenate all rows in a sigle file ancd checking the new size on disk and number of rows\n",
    "concatenatedfile=pd.concat([file1,file2,file3,file4,file5,file6,file7,file8,file9,file10], sort=True)\n",
    "concatenatedfile.info()\n",
    "concatenatedfile.count()"
   ]
  },
  {
   "cell_type": "code",
   "execution_count": 80,
   "metadata": {},
   "outputs": [
    {
     "name": "stdout",
     "output_type": "stream",
     "text": [
      "Empty DataFrame\n",
      "Columns: []\n",
      "Index: []\n"
     ]
    },
    {
     "data": {
      "text/plain": [
       "sensor    0\n",
       "time      0\n",
       "value     0\n",
       "dtype: int64"
      ]
     },
     "execution_count": 80,
     "metadata": {},
     "output_type": "execute_result"
    }
   ],
   "source": [
    "#Last verification of non-null \n",
    "null_columns=concatenatedfile.columns[concatenatedfile.isnull().any()]\n",
    "concatenatedfile[null_columns].isnull().sum()\n",
    "print(concatenatedfile[concatenatedfile.isnull().any(axis=1)][null_columns].head())\n",
    "\n",
    "pd.isnull(concatenatedfile).sum(axis = 0)"
   ]
  },
  {
   "cell_type": "code",
   "execution_count": 71,
   "metadata": {
    "scrolled": true
   },
   "outputs": [
    {
     "data": {
      "text/html": [
       "<div>\n",
       "<style scoped>\n",
       "    .dataframe tbody tr th:only-of-type {\n",
       "        vertical-align: middle;\n",
       "    }\n",
       "\n",
       "    .dataframe tbody tr th {\n",
       "        vertical-align: top;\n",
       "    }\n",
       "\n",
       "    .dataframe thead th {\n",
       "        text-align: right;\n",
       "    }\n",
       "</style>\n",
       "<table border=\"1\" class=\"dataframe\">\n",
       "  <thead>\n",
       "    <tr style=\"text-align: right;\">\n",
       "      <th></th>\n",
       "      <th>time</th>\n",
       "      <th>value</th>\n",
       "    </tr>\n",
       "    <tr>\n",
       "      <th>sensor</th>\n",
       "      <th></th>\n",
       "      <th></th>\n",
       "    </tr>\n",
       "  </thead>\n",
       "  <tbody>\n",
       "    <tr>\n",
       "      <th>H-DHT11</th>\n",
       "      <td>1420302</td>\n",
       "      <td>1420302</td>\n",
       "    </tr>\n",
       "    <tr>\n",
       "      <th>H-DHT22</th>\n",
       "      <td>1440160</td>\n",
       "      <td>1440160</td>\n",
       "    </tr>\n",
       "    <tr>\n",
       "      <th>H-HTU21</th>\n",
       "      <td>1428377</td>\n",
       "      <td>1428377</td>\n",
       "    </tr>\n",
       "    <tr>\n",
       "      <th>P-BMP280</th>\n",
       "      <td>1422788</td>\n",
       "      <td>1422788</td>\n",
       "    </tr>\n",
       "    <tr>\n",
       "      <th>P-DM280</th>\n",
       "      <td>4</td>\n",
       "      <td>4</td>\n",
       "    </tr>\n",
       "    <tr>\n",
       "      <th>T-BMP280</th>\n",
       "      <td>1422795</td>\n",
       "      <td>1422795</td>\n",
       "    </tr>\n",
       "    <tr>\n",
       "      <th>T-DHT11</th>\n",
       "      <td>1420308</td>\n",
       "      <td>1420308</td>\n",
       "    </tr>\n",
       "    <tr>\n",
       "      <th>T-DHT22</th>\n",
       "      <td>1440150</td>\n",
       "      <td>1440150</td>\n",
       "    </tr>\n",
       "    <tr>\n",
       "      <th>T-DM280</th>\n",
       "      <td>4</td>\n",
       "      <td>4</td>\n",
       "    </tr>\n",
       "    <tr>\n",
       "      <th>T-HTU21</th>\n",
       "      <td>1428383</td>\n",
       "      <td>1428383</td>\n",
       "    </tr>\n",
       "  </tbody>\n",
       "</table>\n",
       "</div>"
      ],
      "text/plain": [
       "             time    value\n",
       "sensor                    \n",
       "H-DHT11   1420302  1420302\n",
       "H-DHT22   1440160  1440160\n",
       "H-HTU21   1428377  1428377\n",
       "P-BMP280  1422788  1422788\n",
       "P-DM280         4        4\n",
       "T-BMP280  1422795  1422795\n",
       "T-DHT11   1420308  1420308\n",
       "T-DHT22   1440150  1440150\n",
       "T-DM280         4        4\n",
       "T-HTU21   1428383  1428383"
      ]
     },
     "execution_count": 71,
     "metadata": {},
     "output_type": "execute_result"
    }
   ],
   "source": [
    "#Checking the number of rows grouping by sensor\n",
    "concatenatedfile.groupby(by=\"sensor\").count()"
   ]
  },
  {
   "cell_type": "code",
   "execution_count": 74,
   "metadata": {},
   "outputs": [
    {
     "data": {
      "text/plain": [
       "(    sensor                  time  value\n",
       " 0  H-DHT22  2017-12-19T14:07:18Z   15.7\n",
       " 1  H-DHT22  2017-12-19T14:07:25Z   15.7\n",
       " 2  H-DHT22  2017-12-19T14:07:32Z   15.7\n",
       " 3  H-DHT22  2017-12-19T14:07:38Z   15.7\n",
       " 4  H-DHT22  2017-12-19T14:07:45Z   15.7,\n",
       "           sensor                  time  value\n",
       " 1428378  T-HTU21  2018-03-13T11:41:55Z  26.57\n",
       " 1428379  T-HTU21  2018-03-13T11:41:59Z  26.56\n",
       " 1428380  T-HTU21  2018-03-13T11:42:03Z  26.58\n",
       " 1428381  T-HTU21  2018-03-13T11:42:07Z  26.58\n",
       " 1428382  T-HTU21  2018-03-13T11:42:11Z  26.58)"
      ]
     },
     "execution_count": 74,
     "metadata": {},
     "output_type": "execute_result"
    }
   ],
   "source": [
    "#I want to see a preview of firts and last rows of the concatenated file.\n",
    "concatenatedfile.head(), concatenatedfile.tail()"
   ]
  },
  {
   "cell_type": "code",
   "execution_count": null,
   "metadata": {},
   "outputs": [],
   "source": []
  }
 ],
 "metadata": {
  "kernelspec": {
   "display_name": "Python 3",
   "language": "python",
   "name": "python3"
  },
  "language_info": {
   "codemirror_mode": {
    "name": "ipython",
    "version": 3
   },
   "file_extension": ".py",
   "mimetype": "text/x-python",
   "name": "python",
   "nbconvert_exporter": "python",
   "pygments_lexer": "ipython3",
   "version": "3.7.1"
  }
 },
 "nbformat": 4,
 "nbformat_minor": 2
}
